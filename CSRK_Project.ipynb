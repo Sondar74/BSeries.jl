{
 "cells": [
  {
   "cell_type": "markdown",
   "metadata": {},
   "source": [
    "\n",
    "  # Main code"
   ]
  },
  {
   "cell_type": "code",
   "execution_count": 3,
   "metadata": {},
   "outputs": [
    {
     "data": {
      "text/plain": [
       "elementary_differentials_csrk"
      ]
     },
     "execution_count": 3,
     "metadata": {},
     "output_type": "execute_result"
    }
   ],
   "source": [
    "using BSeries\n",
    "using SymPy\n",
    "using LinearAlgebra\n",
    "using PyCall\n",
    "\n",
    "# This function generates a polinomial \n",
    "#       A_{t,z} = [t,t^2/2,..., t^s/s]*M*[1, z, ..., z^(s-1)]^T\n",
    "# for a given square matrix M of dimmension s and chars 't' and 'z'.  \n",
    "function PolinomialA(M,t,z)\n",
    "    s = size(M,1)\n",
    "    # we need variables to work with\n",
    "    variable1 = Sym(t)\n",
    "    variable2 = Sym(z)\n",
    "    # conjugate the variable 1, provided that this will be the variable\n",
    "    # of the left polinomial\n",
    "    variable1 = conjugate(variable1)\n",
    "    # generate the components of the polinomial with powers of t\n",
    "    poli_z = Array{SymPy.Sym}(undef, s)\n",
    "    for i in 1:s\n",
    "        poli_z[i] = variable2^(i-1)\n",
    "    end\n",
    "    # generate the components of the polinomial with powers of z\n",
    "    poli_t = Array{SymPy.Sym}(undef, s)\n",
    "    for i in 1:s\n",
    "        poli_t[i] = (1 // i)*(variable1^i)\n",
    "    end\n",
    "    # multiply matrix times vector\n",
    "    result = M * poli_z\n",
    "    #println(result)\n",
    "    # use dot product for the two vectors\n",
    "    result = dot(poli_t,result)\n",
    "    return result\n",
    "end\n",
    "\n",
    "\n",
    "\"\"\"\n",
    "    elementary_differentials_csrk(M,tree)\n",
    "\n",
    "This function calculates the CSRK elementary differential for a given \n",
    "square matrix 'M' and a given RootedTree.\n",
    "\n",
    "\"\"\"\n",
    "function elementary_differentials_csrk(M,rootedtree)\n",
    "    # we'll work with the level sequence\n",
    "    tree = rootedtree.level_sequence\n",
    "    m = maximum(tree)\n",
    "    l = length(tree)\n",
    "    # create the variables called 'xi' for 1 <= i <= m\n",
    "    variables = []\n",
    "    for i in 1:m\n",
    "        var_name = \"x$i\"\n",
    "        var = Sym(var_name)\n",
    "        push!(variables, var)\n",
    "    end\n",
    "    inverse_counter = l-1\n",
    "    # stablish initial integrand, which is the rightmost leaf (last node of the level sequence)\n",
    "    if l > 1\n",
    "        integrand = integrate(PolinomialA(M,variables[tree[end]-1],variables[tree[end]]),(variables[tree[end]],0,1))\n",
    "        #println(integrand)\n",
    "    else\n",
    "        # if the Rooted Tree is [1] or [], the elementary differential will be 1.\n",
    "        return 1\n",
    "    end\n",
    "    while inverse_counter > 1\n",
    "        # println(\"A_\",variables[tree[inverse_counter]-1],variables[tree[inverse_counter]])\n",
    "        pseudo_integrand = PolinomialA(M,variables[tree[inverse_counter]-1],variables[tree[inverse_counter]])*integrand\n",
    "        integrand = integrate(pseudo_integrand,(variables[tree[inverse_counter]],0,1))\n",
    "        # println(integrand)\n",
    "        inverse_counter -= 1\n",
    "    end\n",
    "    #println(integrate(PolinomialA(M,1,variables[1])*integrand,(variables[1],0,1)))\n",
    "    #multiply for the Basis_Polonimial, i.e. the Polinomial B\n",
    "    #return the integral with respect to x1.\n",
    "    return integrate(PolinomialA(M,1,variables[1])*integrand,(variables[1],0,1))\n",
    "end\n",
    "\n"
   ]
  },
  {
   "cell_type": "markdown",
   "metadata": {},
   "source": [
    "## 2x2 Matrix"
   ]
  },
  {
   "cell_type": "markdown",
   "metadata": {},
   "source": [
    "Using the code for generating CSRK coefficients for a given matrix and a given RootedTree, I tried to generate and solve the equations for the matrix\n",
    "\\begin{equation}\n",
    "M = \n",
    "\\begin{bmatrix}\n",
    "\\alpha & \\beta \\\\\n",
    "\\beta & \\gamma \\\\\n",
    "\\end{bmatrix}  \n",
    "\\end{equation}"
   ]
  },
  {
   "cell_type": "code",
   "execution_count": 4,
   "metadata": {},
   "outputs": [
    {
     "name": "stdout",
     "output_type": "stream",
     "text": [
      "a^2/2 + a*b + a*c/4 + b^2/2 + b*c/4 + c^2/32\n",
      "a^3/4 + 3*a^2*b/4 + 13*a^2*c/72 + 109*a*b^2/144 + 53*a*b*c/144 + 13*a*c^2/288 + 37*b^3/144 + 109*b^2*c/576 + 3*b*c^2/64 + c^3/256\n",
      "a^3/3 + a^2*b + a^2*c/4 + a*b^2 + a*b*c/2 + a*c^2/16 + b^3/3 + b^2*c/4 + b*c^2/16 + c^3/192\n"
     ]
    }
   ],
   "source": [
    "M = [Sym(\"a\") Sym(\"b\");\n",
    "Sym(\"b\") Sym(\"c\")]\n",
    "\n",
    "#elementary_differentials_csrk(M,rootedtree([1, 2]))\n",
    "#resultados numericos\n",
    "#a =  3.0167876\n",
    "#b = -5.77444127\n",
    "#c = 15.03061467\n",
    "#M = [a b;\n",
    "#    b c]\n",
    "println(elementary_differentials_csrk(M,rootedtree([1, 2])))\n",
    "println(elementary_differentials_csrk(M,rootedtree([1, 2,3])))\n",
    "println(elementary_differentials_csrk(M,rootedtree([1, 2,2])))"
   ]
  },
  {
   "cell_type": "markdown",
   "metadata": {},
   "source": [
    "These equations are equated to $(1/2, 1/6, 1/3)$ respectively (which are the errors obtained from the difference between a bseries and its exact_solution.\n",
    "\n",
    "Using $fsolve$ from Python, I got this solution for the variables: $(\\alpha,\\beta,\\gamma) = (3.0167876, -5.77444127, 15.03061467)$. \n",
    "\n",
    "The first elementary differentials are given below:"
   ]
  },
  {
   "cell_type": "code",
   "execution_count": 5,
   "metadata": {},
   "outputs": [
    {
     "name": "stdout",
     "output_type": "stream",
     "text": [
      "0.499999997500000\n",
      "0.166666665165591\n",
      "0.333333330833333\n"
     ]
    }
   ],
   "source": [
    "a =  3.0167876\n",
    "b = -5.77444127\n",
    "c = 15.03061467\n",
    "M = [a b;\n",
    "    b c]\n",
    "println(elementary_differentials_csrk(M,rootedtree([1, 2])))\n",
    "println(elementary_differentials_csrk(M,rootedtree([1, 2,3])))\n",
    "println(elementary_differentials_csrk(M,rootedtree([1, 2,2])))"
   ]
  },
  {
   "cell_type": "markdown",
   "metadata": {},
   "source": [
    "Which are values which approximately matches with the expected values until the 8th decimal. In contrast, the coefficients given by the 4x4 matrix proposed by Miyatake are always rationals and match perfectly with the expected results for low order RootedTrees. "
   ]
  },
  {
   "cell_type": "code",
   "execution_count": 10,
   "metadata": {},
   "outputs": [
    {
     "name": "stdout",
     "output_type": "stream",
     "text": [
      "1/2\n",
      "1/6\n",
      "1/3\n",
      "Check higher order trees: \n",
      "1/24\n",
      "7241/661500\n",
      "3078611/617400000\n"
     ]
    }
   ],
   "source": [
    "# from page 2005\n",
    "M = [-6//5 72//5 -36 24;\n",
    "    72//5 -144//5 -48 72;\n",
    "    -36 -48 720 -720;\n",
    "    24 72 -720 720]\n",
    "\n",
    "println(elementary_differentials_csrk(M,rootedtree([1, 2])))\n",
    "println(elementary_differentials_csrk(M,rootedtree([1, 2,3])))\n",
    "println(elementary_differentials_csrk(M,rootedtree([1, 2,2])))\n",
    "println(\"Check higher order trees: \")\n",
    "println(elementary_differentials_csrk(M,rootedtree([1, 2,3,4])))\n",
    "println(elementary_differentials_csrk(M,rootedtree([1, 2,3,4,4,3])))\n",
    "println(elementary_differentials_csrk(M,rootedtree([1, 2,2,3,3,4,5])))"
   ]
  },
  {
   "cell_type": "markdown",
   "metadata": {},
   "source": [
    "Remark: the RootedTree $[1]$ is not considered provided that its output will always be 1, according to the definition of the CSRK elementary differentials."
   ]
  },
  {
   "cell_type": "code",
   "execution_count": null,
   "metadata": {},
   "outputs": [],
   "source": []
  }
 ],
 "metadata": {
  "kernelspec": {
   "display_name": "Julia 1.8.5",
   "language": "julia",
   "name": "julia-1.8"
  },
  "language_info": {
   "file_extension": ".jl",
   "mimetype": "application/julia",
   "name": "julia",
   "version": "1.8.5"
  }
 },
 "nbformat": 4,
 "nbformat_minor": 4
}
